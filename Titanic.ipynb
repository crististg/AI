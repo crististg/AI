{
 "cells": [
  {
   "cell_type": "code",
   "execution_count": 219,
   "id": "2495942d-5a09-429a-a65c-7ce7b047be15",
   "metadata": {},
   "outputs": [
    {
     "data": {
      "text/plain": [
       "0.7412587412587412"
      ]
     },
     "execution_count": 219,
     "metadata": {},
     "output_type": "execute_result"
    }
   ],
   "source": [
    "import pandas as pd\n",
    "from sklearn.tree import DecisionTreeClassifier\n",
    "from sklearn.model_selection import train_test_split\n",
    "from sklearn.metrics import accuracy_score\n",
    "import joblib\n",
    "\n",
    "data = pd.read_csv('titanic.csv')\n",
    "data = data.drop_duplicates()\n",
    "data=data.dropna(subset=['Age','Fare']) # scoti liniile care nu au valorie pe coloanele Age sau Fare\n",
    "X = data.drop(columns=['Survived','Name','Cabin','Ticket','Embarked','SibSp','Parch']) # filtrezi setul de date ca sa ramana doar variabilele relevante\n",
    "y = data['Survived'] # scoti outputul\n",
    "X['Sex']=X['Sex'].map({'female':0,'male':1}) # inlocuiesti valoriile text cu numere\n",
    "#X['Embarked']=X['Embarked'].map({'S':1,'C':2,'Q':3})\n",
    "X_train,X_test,y_train,y_test=train_test_split(X,y,test_size=0.2) # imparti seturile de date pentru testing + training\n",
    "\n",
    "model = DecisionTreeClassifier() # creezi modelul\n",
    "model.fit(X_train, y_train) # il antrenezi\n",
    "\n",
    "#joblib.dump(model,'saved_model.joblib')\n",
    "#joblib.load('saved_model.joblib')\n",
    "\n",
    "predictions = model.predict(X_test) # faci predicita cu setul de date de testing\n",
    "accuracy=accuracy_score(y_test,predictions) # compari predicitia cu setul de date de testing\n",
    "accuracy"
   ]
  }
 ],
 "metadata": {
  "kernelspec": {
   "display_name": "Python 3 (ipykernel)",
   "language": "python",
   "name": "python3"
  },
  "language_info": {
   "codemirror_mode": {
    "name": "ipython",
    "version": 3
   },
   "file_extension": ".py",
   "mimetype": "text/x-python",
   "name": "python",
   "nbconvert_exporter": "python",
   "pygments_lexer": "ipython3",
   "version": "3.13.3"
  }
 },
 "nbformat": 4,
 "nbformat_minor": 5
}
