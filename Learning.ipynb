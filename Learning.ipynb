{
 "cells": [
  {
   "cell_type": "code",
   "execution_count": 397,
   "id": "2495942d-5a09-429a-a65c-7ce7b047be15",
   "metadata": {},
   "outputs": [
    {
     "data": {
      "text/plain": [
       "0.7821229050279329"
      ]
     },
     "execution_count": 397,
     "metadata": {},
     "output_type": "execute_result"
    }
   ],
   "source": [
    "import pandas as pd\n",
    "from sklearn.tree import DecisionTreeClassifier\n",
    "from sklearn.model_selection import train_test_split\n",
    "from sklearn.metrics import accuracy_score\n",
    "import joblib\n",
    "\n",
    "data = pd.read_csv('titanic.csv')\n",
    "data = data.drop_duplicates()\n",
    "X = data.drop(columns=['Survived','Name','Cabin','Ticket','Embarked','SibSp','Parch'])\n",
    "y = data['Survived']\n",
    "X['Sex']=X['Sex'].map({'female':0,'male':1})\n",
    "#X['Embarked']=X['Embarked'].map({'S':1,'C':2,'Q':3})\n",
    "X_train,X_test,y_train,y_test=train_test_split(X,y,test_size=0.2)\n",
    "\n",
    "model = DecisionTreeClassifier()\n",
    "model.fit(X_train, y_train)\n",
    "\n",
    "joblib.dump(model,'saved_model.joblib')\n",
    "joblib.load('saved_model.joblib')\n",
    "\n",
    "predictions = model.predict(X_test)\n",
    "accuracy=accuracy_score(predictions,y_test)\n",
    "accuracy"
   ]
  },
  {
   "cell_type": "code",
   "execution_count": null,
   "id": "af320640-fc46-4caf-a60a-b17819336eb4",
   "metadata": {},
   "outputs": [],
   "source": []
  }
 ],
 "metadata": {
  "kernelspec": {
   "display_name": "Python 3 (ipykernel)",
   "language": "python",
   "name": "python3"
  },
  "language_info": {
   "codemirror_mode": {
    "name": "ipython",
    "version": 3
   },
   "file_extension": ".py",
   "mimetype": "text/x-python",
   "name": "python",
   "nbconvert_exporter": "python",
   "pygments_lexer": "ipython3",
   "version": "3.13.3"
  }
 },
 "nbformat": 4,
 "nbformat_minor": 5
}
